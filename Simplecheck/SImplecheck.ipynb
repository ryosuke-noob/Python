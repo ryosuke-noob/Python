{
 "cells": [
  {
   "cell_type": "code",
   "execution_count": 1,
   "id": "8715285c-220a-41b7-8aee-6a99df026c8b",
   "metadata": {},
   "outputs": [
    {
     "ename": "SyntaxError",
     "evalue": "invalid syntax (2411265453.py, line 1)",
     "output_type": "error",
     "traceback": [
      "\u001b[0;36m  File \u001b[0;32m\"/var/folders/mb/db04xgdj6x7gmdhvdc9qlzgr0000gn/T/ipykernel_4189/2411265453.py\"\u001b[0;36m, line \u001b[0;32m1\u001b[0m\n\u001b[0;31m    playwright test\u001b[0m\n\u001b[0m               ^\u001b[0m\n\u001b[0;31mSyntaxError\u001b[0m\u001b[0;31m:\u001b[0m invalid syntax\n"
     ]
    }
   ],
   "source": [
    "# Inside that directory, you can run several commands:\n",
    "\n",
    "#   npx playwright test\n",
    "#     Runs the end-to-end tests.\n",
    "\n",
    "#   npx playwright test --ui\n",
    "#     Starts the interactive UI mode.\n",
    "\n",
    "#   npx playwright test --project=chromium\n",
    "#     Runs the tests only on Desktop Chrome.\n",
    "\n",
    "#   npx playwright test example\n",
    "#     Runs the tests in a specific file.\n",
    "\n",
    "#   npx playwright test --debug\n",
    "#     Runs the tests in debug mode.\n",
    "\n",
    "#   npx playwright codegen\n",
    "#     Auto generate tests with Codegen.\n",
    "\n",
    "# We suggest that you begin by typing:\n",
    "\n",
    "#     npx playwright test\n",
    "\n",
    "# And check out the following files:\n",
    "#   - ./tests/example.spec.ts - Example end-to-end test\n",
    "#   - ./tests-examples/demo-todo-app.spec.ts - Demo Todo App end-to-end tests\n",
    "#   - ./playwright.config.ts - Playwright Test configuration\n",
    "\n",
    "# Visit https://playwright.dev/docs/intro for more information. ✨\n",
    "\n",
    "# Happy hacking! 🎭"
   ]
  },
  {
   "cell_type": "code",
   "execution_count": 3,
   "id": "8718d8ef-b748-49b4-b2d7-3e8dec9e6314",
   "metadata": {},
   "outputs": [
    {
     "ename": "SyntaxError",
     "evalue": "invalid syntax (222948634.py, line 1)",
     "output_type": "error",
     "traceback": [
      "\u001b[0;36m  File \u001b[0;32m\"/var/folders/mb/db04xgdj6x7gmdhvdc9qlzgr0000gn/T/ipykernel_4189/222948634.py\"\u001b[0;36m, line \u001b[0;32m1\u001b[0m\n\u001b[0;31m    sudo npm init playwright@latest\u001b[0m\n\u001b[0m         ^\u001b[0m\n\u001b[0;31mSyntaxError\u001b[0m\u001b[0;31m:\u001b[0m invalid syntax\n"
     ]
    }
   ],
   "source": [
    "sudo npm init playwright@latest"
   ]
  },
  {
   "cell_type": "code",
   "execution_count": null,
   "id": "4928525b-9e7a-4ce1-9a7f-085e2c4c8b73",
   "metadata": {},
   "outputs": [],
   "source": []
  }
 ],
 "metadata": {
  "kernelspec": {
   "display_name": "Python 3 (ipykernel)",
   "language": "python",
   "name": "python3"
  },
  "language_info": {
   "codemirror_mode": {
    "name": "ipython",
    "version": 3
   },
   "file_extension": ".py",
   "mimetype": "text/x-python",
   "name": "python",
   "nbconvert_exporter": "python",
   "pygments_lexer": "ipython3",
   "version": "3.9.13"
  }
 },
 "nbformat": 4,
 "nbformat_minor": 5
}
