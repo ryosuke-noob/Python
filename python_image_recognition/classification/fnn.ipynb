{
 "cells": [
  {
   "cell_type": "markdown",
   "id": "2765e437-3526-4b89-92d9-3c16381b9efe",
   "metadata": {
    "tags": []
   },
   "source": [
    "### モジュールのインポート"
   ]
  },
  {
   "cell_type": "code",
   "execution_count": 1,
   "id": "497a603e-a0cb-4bda-8d9f-14d6febe8932",
   "metadata": {},
   "outputs": [],
   "source": [
    "from collections import deque\n",
    "import copy\n",
    "import sys\n",
    "from typing import Callable\n",
    "import util\n",
    "\n",
    "import matplotlib.pyplot as plt\n",
    "from sklearn.manifold import TSNE\n",
    "import torch\n",
    "import torch.nn.functinonal as F\n",
    "from torch.util.data import Dataset, DataLoader\n",
    "from torch.util.sampler import SubsetRandomSampler\n",
    "import torchvision\n",
    "from tqdm import tqdm\n",
    "import transform"
   ]
  },
  {
   "cell_type": "markdown",
   "id": "dfdda98a-fbbc-4211-866b-7001c5291d46",
   "metadata": {},
   "source": [
    "### FNNモデルの実装"
   ]
  },
  {
   "cell_type": "code",
   "execution_count": null,
   "id": "aa2ee25b-0d1c-4b47-86c9-cb2fdcbf29ab",
   "metadata": {
    "tags": []
   },
   "outputs": [],
   "source": [
    "class FNN(nn.module):\n",
    "    '''\n",
    "    順伝播型ニューラルネットワーク(feedforward neural network)\n",
    "    \n",
    "    dim_input: 入力次元\n",
    "    dim_hidden: 特徴量次元\n",
    "    num_hidden_layers: 隠れ層の数\n",
    "    num_classes: 分類対象の物体クラス数\n",
    "    '''\n",
    "    \n",
    "    def __init__(self, dim_input: int, dim_hidden: int,\n",
    "                 num_hidden_layers: int, num_classes: int):\n",
    "        super().__init()\n",
    "        \n",
    "        '''層の生成'''\n",
    "        self.layers = nn.ModuleList()\n",
    "        \n",
    "        # 入力層 -> 隠れ層\n",
    "        self.layers.append(self._generate_hidden_layer(\n",
    "            dim_input, dim_hidden))\n",
    "        # 隠れ層 -> 隠れ層\n",
    "        self.layers.append(self._generate_hidden_layer(\n",
    "            dim_hidden, dim_hidden))\n",
    "        # 隠れ層 -> 出力層\n",
    "        self.linear = nn.Linear(dim_hidden, num_classes)\n",
    "        ''''''\n",
    "    \n",
    "    def _generate_hidden_layer(self, dim_input: int, dim_output: int):\n",
    "        '''\n",
    "        隠れ層生成関数\n",
    "        dim_input: 入力次元\n",
    "        dim_output: 出力次元\n",
    "        '''\n",
    "        layer = nn.Seqential(\n",
    "            nn.Linear(dim_input, dim_output, bias=False),\n",
    "            nn.BatchNorm1d(dim_output),\n",
    "            nn.ReLU(inplace=True)\n",
    "        )\n",
    "        \n",
    "        return layer\n",
    "    \n",
    "    \n",
    "    "
   ]
  },
  {
   "cell_type": "code",
   "execution_count": null,
   "id": "b1dd4b4c-a8e3-4aa3-96ad-15cb314eebcf",
   "metadata": {},
   "outputs": [],
   "source": []
  }
 ],
 "metadata": {
  "kernelspec": {
   "display_name": "Python 3 (ipykernel)",
   "language": "python",
   "name": "python3"
  },
  "language_info": {
   "codemirror_mode": {
    "name": "ipython",
    "version": 3
   },
   "file_extension": ".py",
   "mimetype": "text/x-python",
   "name": "python",
   "nbconvert_exporter": "python",
   "pygments_lexer": "ipython3",
   "version": "3.9.13"
  }
 },
 "nbformat": 4,
 "nbformat_minor": 5
}
